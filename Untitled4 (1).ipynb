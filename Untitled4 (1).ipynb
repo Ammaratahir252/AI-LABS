{
  "nbformat": 4,
  "nbformat_minor": 0,
  "metadata": {
    "colab": {
      "provenance": []
    },
    "kernelspec": {
      "name": "python3",
      "display_name": "Python 3"
    },
    "language_info": {
      "name": "python"
    }
  },
  "cells": [
    {
      "cell_type": "code",
      "execution_count": 1,
      "metadata": {
        "id": "q-klKRFyT0_q",
        "colab": {
          "base_uri": "https://localhost:8080/"
        },
        "outputId": "fb8b3e9f-fc04-4715-8969-946f10431735"
      },
      "outputs": [
        {
          "output_type": "stream",
          "name": "stdout",
          "text": [
            "name is ammara\n",
            "age 22\n",
            "Address islamabad\n",
            "phone 123456789\n",
            "email 413452students.riphah.edu.pk \n",
            "cnic 3320157673764\n"
          ]
        }
      ],
      "source": [
        "print('name is ammara')\n",
        "print('age 22')\n",
        "print('Address islamabad')\n",
        "print('phone 123456789')\n",
        "print('email 413452students.riphah.edu.pk ')\n",
        "print('cnic 3320157673764')"
      ]
    },
    {
      "cell_type": "code",
      "source": [
        "sap = int(input(\"Enter sap: \"))\n",
        "name = input(\"Enter name: \")"
      ],
      "metadata": {
        "colab": {
          "base_uri": "https://localhost:8080/"
        },
        "id": "xIxqnrDaI8QV",
        "outputId": "e9bcc384-f2b8-47a9-e6da-b1ab0c6c226e"
      },
      "execution_count": 2,
      "outputs": [
        {
          "name": "stdout",
          "output_type": "stream",
          "text": [
            "Enter sap: 41345\n",
            "Enter name: AMMARA\n"
          ]
        }
      ]
    },
    {
      "cell_type": "code",
      "source": [
        "a = 10\n",
        "b = 20\n",
        "temp = a\n",
        "a = b\n",
        "b = temp\n",
        "print(a)\n",
        "print(b)"
      ],
      "metadata": {
        "colab": {
          "base_uri": "https://localhost:8080/"
        },
        "id": "-aqQ2_CUJBwZ",
        "outputId": "291e16ef-e7fc-4672-e408-4370e774030b"
      },
      "execution_count": 3,
      "outputs": [
        {
          "output_type": "stream",
          "name": "stdout",
          "text": [
            "20\n",
            "10\n"
          ]
        }
      ]
    },
    {
      "cell_type": "code",
      "source": [
        "a = 10\n",
        "b = 20\n",
        "a = a + b\n",
        "b = a - b\n",
        "a = a - b\n",
        "print(a)\n",
        "print(b)\n",
        "a = a + b\n",
        "b = a - b\n",
        "a = a - b\n",
        "print(a)\n",
        "print(b)"
      ],
      "metadata": {
        "colab": {
          "base_uri": "https://localhost:8080/"
        },
        "id": "3bC9vhWHJG9E",
        "outputId": "8fefafbe-e054-41b3-c5cf-95adf322d22b"
      },
      "execution_count": 5,
      "outputs": [
        {
          "output_type": "stream",
          "name": "stdout",
          "text": [
            "20\n",
            "10\n",
            "10\n",
            "20\n"
          ]
        }
      ]
    }
  ]
}