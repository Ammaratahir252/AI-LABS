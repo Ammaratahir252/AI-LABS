{
  "nbformat": 4,
  "nbformat_minor": 0,
  "metadata": {
    "colab": {
      "provenance": []
    },
    "kernelspec": {
      "name": "python3",
      "display_name": "Python 3"
    },
    "language_info": {
      "name": "python"
    }
  },
  "cells": [
    {
      "source": [
        "import random\n",
        "\n",
        "# Define the environment class\n",
        "class Environment:\n",
        "    def __init__(self):  # Corrected constructor name\n",
        "        # Initialize location conditions randomly (0: clean, 1: dirty)\n",
        "        self.locationCondition = {\n",
        "            'A': random.randint(0, 1),  # 1 means dirty, 0 means clean\n",
        "            'B': random.randint(0, 1),\n",
        "            'C': random.randint(0, 1),\n",
        "            'D': random.randint(0, 1)\n",
        "        }\n",
        "\n",
        "# Define the simple reflex agent class\n",
        "class SimpleReflexVacuumAgent:\n",
        "    def __init__(self, environment):  # Corrected constructor name\n",
        "        self.environment = environment\n",
        "        self.score = 0  # To track performance (number of cleaned locations)\n",
        "        self.vacuumLocation = random.choice(['A', 'B', 'C', 'D'])  # Randomly place vacuum at one of four locations\n",
        "\n",
        "        # Display the initial condition of the environment\n",
        "        print(\"Initial environment conditions:\", self.environment.locationCondition)\n",
        "\n",
        "        # Perform cleaning based on the initial vacuum location\n",
        "        print(f\"Vacuum is randomly placed at Location {self.vacuumLocation}.\")\n",
        "        self.clean_location(self.vacuumLocation)\n",
        "\n",
        "        # Move to the next locations in sequence and clean\n",
        "        self.move_and_clean(['A', 'B', 'C', 'D'])\n",
        "\n",
        "        # Output final conditions and score\n",
        "        print(\"Final environment conditions:\", self.environment.locationCondition)\n",
        "        print(\"Performance Measurement: \" + str(self.score))\n",
        "\n",
        "    def clean_location(self, location):\n",
        "        print(f\"Location {location} is {'Dirty' if self.environment.locationCondition[location] == 1 else 'Clean'}.\")\n",
        "        if self.environment.locationCondition[location] == 1:  # If dirty\n",
        "            self.environment.locationCondition[location] = 0  # Clean the location\n",
        "            self.score += 1\n",
        "            print(f\"Location {location} has been Cleaned.\")\n",
        "        else:\n",
        "            print(f\"Location {location} is already Clean.\")\n",
        "\n",
        "    def move_and_clean(self, locations):\n",
        "        for location in locations:\n",
        "            print(f\"Moving to Location {location}...\")\n",
        "            self.clean_location(location)\n",
        "\n",
        "# Create an environment and a vacuum agent\n",
        "theEnvironment = Environment()\n",
        "theVacuum = SimpleReflexVacuumAgent(theEnvironment)\n"
      ],
      "cell_type": "code",
      "metadata": {
        "colab": {
          "base_uri": "https://localhost:8080/"
        },
        "id": "lgM7wfCA2BBR",
        "outputId": "de35e0c4-b61b-48c6-e460-39d562f85ab1"
      },
      "execution_count": null,
      "outputs": [
        {
          "output_type": "stream",
          "name": "stdout",
          "text": [
            "Initial environment conditions: {'A': 0, 'B': 0, 'C': 0, 'D': 0}\n",
            "Vacuum is randomly placed at Location D.\n",
            "Location D is Clean.\n",
            "Location D is already Clean.\n",
            "Moving to Location A...\n",
            "Location A is Clean.\n",
            "Location A is already Clean.\n",
            "Moving to Location B...\n",
            "Location B is Clean.\n",
            "Location B is already Clean.\n",
            "Moving to Location C...\n",
            "Location C is Clean.\n",
            "Location C is already Clean.\n",
            "Moving to Location D...\n",
            "Location D is Clean.\n",
            "Location D is already Clean.\n",
            "Final environment conditions: {'A': 0, 'B': 0, 'C': 0, 'D': 0}\n",
            "Performance Measurement: 0\n"
          ]
        }
      ]
    }
  ]
}