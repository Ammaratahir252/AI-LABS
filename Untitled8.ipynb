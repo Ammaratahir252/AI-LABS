{
  "nbformat": 4,
  "nbformat_minor": 0,
  "metadata": {
    "colab": {
      "provenance": [],
      "toc_visible": true
    },
    "kernelspec": {
      "name": "python3",
      "display_name": "Python 3"
    },
    "language_info": {
      "name": "python"
    }
  },
  "cells": [
    {
      "cell_type": "code",
      "source": [
        "graph = {\n",
        "    'A': ['B', 'C'],\n",
        "    'B': ['D'],\n",
        "    'C': ['E'],\n",
        "    'D': ['C', 'E'],\n",
        "    'E': []\n",
        "}\n",
        "\n",
        "   def find_path(graph, start, end, path=[]):\n",
        "    path = path + [start]\n",
        "    if start == end:\n",
        "        return path\n",
        "    if start not in graph:\n",
        "        return None\n",
        "\n",
        "    for node in graph[start]:\n",
        "        if node not in path:\n",
        "            newpath = find_path(graph, node, end, path)\n",
        "            if newpath:\n",
        "                return newpath\n",
        "    return None\n",
        "\n",
        "print(find_path(graph, 'A', 'D'))\n"
      ],
      "metadata": {
        "colab": {
          "base_uri": "https://localhost:8080/"
        },
        "id": "tWmXsTwKMvDk",
        "outputId": "f83637a9-f747-4a0f-f5ec-cf2120277fdc"
      },
      "execution_count": null,
      "outputs": [
        {
          "output_type": "stream",
          "name": "stdout",
          "text": [
            "['A', 'B', 'D']\n"
          ]
        }
      ]
    },
    {
      "cell_type": "code",
      "source": [
        "# Directed Graph\n",
        "directed_graph = {\n",
        "    'A': ['B'],\n",
        "    'B': ['C'],\n",
        "    'C': ['D'],\n",
        "    'D': ['E'],\n",
        "    'E': [],\n",
        "    'F': [],\n",
        "    'G': []\n",
        "}\n",
        "\n",
        "# Un-directed Graph\n",
        "undirected_graph = {\n",
        "    'A': ['B'],\n",
        "    'B': ['A', 'C'],\n",
        "    'C': ['B', 'D'],\n",
        "    'D': ['C', 'E'],\n",
        "    'E': ['D'],\n",
        "    'F': [],\n",
        "    'G': []\n",
        "}\n",
        "\n",
        "# Weighted Graph\n",
        "weighted_graph = {\n",
        "    'A': {'B': 1},\n",
        "    'B': {'C': 2},\n",
        "    'C': {'D': 3},\n",
        "    'D': {'E': 4},\n",
        "    'E': {},\n",
        "    'F': {},\n",
        "    'G': {}\n",
        "}\n",
        "\n",
        "# Shortest path (simple BFS for unweighted or weighted with equal weights)\n",
        "def find_shortest_path(graph, start, end):\n",
        "    queue = [(start, [start])]\n",
        "    while queue:\n",
        "        (node, path) = queue.pop(0)\n",
        "        for neighbor in graph.get(node, {}):\n",
        "            if neighbor == end:\n",
        "                return path + [neighbor]\n",
        "            else:\n",
        "                queue.append((neighbor, path + [neighbor]))\n",
        "    return None\n",
        "\n",
        "# Find neighbors of a node\n",
        "def find_neighbors(graph, node):\n",
        "    return graph.get(node, [])\n",
        "\n",
        "# Check if edge exists\n",
        "def edge_exists(graph, node1, node2):\n",
        "    return node2 in graph.get(node1, {})\n",
        "\n",
        "# Test cases\n",
        "print(\"Shortest Path (A to E):\", find_shortest_path(weighted_graph, 'A', 'E'))\n",
        "print(\"Neighbors of B:\", find_neighbors(directed_graph, 'B'))\n",
        "print(\"Edge A -> B exists?\", edge_exists(weighted_graph, 'A', 'B'))"
      ],
      "metadata": {
        "colab": {
          "base_uri": "https://localhost:8080/"
        },
        "id": "Qc9Z4sRiM46_",
        "outputId": "0ad9a750-9180-42f6-b787-b51cf4ac96a9"
      },
      "execution_count": null,
      "outputs": [
        {
          "output_type": "stream",
          "name": "stdout",
          "text": [
            "Shortest Path (A to E): ['A', 'B', 'C', 'D', 'E']\n",
            "Neighbors of B: ['C']\n",
            "Edge A -> B exists? True\n"
          ]
        }
      ]
    },
    {
      "cell_type": "code",
      "source": [],
      "metadata": {
        "id": "YdjBvvw8NNCd"
      },
      "execution_count": null,
      "outputs": []
    }
  ]
}