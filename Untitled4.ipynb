{
  "nbformat": 4,
  "nbformat_minor": 0,
  "metadata": {
    "colab": {
      "provenance": []
    },
    "kernelspec": {
      "name": "python3",
      "display_name": "Python 3"
    },
    "language_info": {
      "name": "python"
    }
  },
  "cells": [
    {
      "cell_type": "code",
      "execution_count": null,
      "metadata": {
        "id": "kX5LnNu26LhN"
      },
      "outputs": [],
      "source": [
        "import numpy as np\n",
        "arr = np.array([[1.2, 0.0, 3.14], [5.5, 2.8, 0.0]])\n",
        "bool_arr = arr.astype(bool)"
      ]
    },
    {
      "cell_type": "code",
      "source": [
        "import numpy as np\n",
        "\n",
        "my_array = np.array([10, 20, 30, 40])\n",
        "my_array = np.insert(my_array, 2, 55)\n",
        "print(my_array)"
      ],
      "metadata": {
        "colab": {
          "base_uri": "https://localhost:8080/"
        },
        "id": "Qhep92jK6tpS",
        "outputId": "c608b26f-5101-47ab-d593-6923e8a55413"
      },
      "execution_count": null,
      "outputs": [
        {
          "output_type": "stream",
          "name": "stdout",
          "text": [
            "[10 20 55 30 40]\n"
          ]
        }
      ]
    },
    {
      "cell_type": "code",
      "source": [
        "import numpy as np\n",
        "\n",
        "arr = np.arange(0, 101, 2)\n",
        "print(arr)"
      ],
      "metadata": {
        "colab": {
          "base_uri": "https://localhost:8080/"
        },
        "id": "l8JvY1-O8BAh",
        "outputId": "fd8c6cca-bbe2-468c-d990-ad86d761127c"
      },
      "execution_count": null,
      "outputs": [
        {
          "output_type": "stream",
          "name": "stdout",
          "text": [
            "[  0   2   4   6   8  10  12  14  16  18  20  22  24  26  28  30  32  34\n",
            "  36  38  40  42  44  46  48  50  52  54  56  58  60  62  64  66  68  70\n",
            "  72  74  76  78  80  82  84  86  88  90  92  94  96  98 100]\n"
          ]
        }
      ]
    },
    {
      "cell_type": "code",
      "source": [
        "import numpy as np\n",
        "\n",
        "a = np.array([[1, 2,5], [3, 4,6]])\n",
        "b= np.array([[5, 6,9], [7, 8,10]])\n",
        "result = a * b\n",
        "#result = np.matmul(a, b)\n",
        "print(result)"
      ],
      "metadata": {
        "colab": {
          "base_uri": "https://localhost:8080/"
        },
        "id": "GbqPAPxZ9OgD",
        "outputId": "c5ee9de0-4697-40e3-a566-96e225fb7b30"
      },
      "execution_count": null,
      "outputs": [
        {
          "output_type": "stream",
          "name": "stdout",
          "text": [
            "[[ 5 12 45]\n",
            " [21 32 60]]\n"
          ]
        }
      ]
    },
    {
      "cell_type": "code",
      "source": [
        "import numpy as np\n",
        "\n",
        "arr = np.array([1, 2, 3, 4, 5])\n",
        "num = 6\n",
        "\n",
        "if num in arr:\n",
        "  print(\"is present in the array\")\n",
        "else:\n",
        "  print(\" is not present in the array\")"
      ],
      "metadata": {
        "colab": {
          "base_uri": "https://localhost:8080/"
        },
        "id": "E3JOvmzF-YqJ",
        "outputId": "73d8a63a-d30e-439c-ba48-25ba353de161"
      },
      "execution_count": null,
      "outputs": [
        {
          "output_type": "stream",
          "name": "stdout",
          "text": [
            "{num} is not present in the array\n"
          ]
        }
      ]
    }
  ]
}