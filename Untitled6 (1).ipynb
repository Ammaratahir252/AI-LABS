{
  "cells": [
    {
      "cell_type": "code",
      "execution_count": null,
      "metadata": {
        "id": "wif09Lvm7QFl"
      },
      "outputs": [],
      "source": [
        "def sum_list(list):\n",
        "  sum = 0\n",
        "  for number in list:\n",
        "    sum += number\n",
        "  return sum"
      ]
    },
    {
      "cell_type": "code",
      "execution_count": null,
      "metadata": {
        "id": "xhvkjULd70eS"
      },
      "outputs": [],
      "source": [
        "def is_present(roll_number, attendance_list):\n",
        "  if roll_number in attendance_list:\n",
        "    return \"Present\"\n",
        "  else:\n",
        "    return \"Absent\""
      ]
    },
    {
      "cell_type": "code",
      "execution_count": null,
      "metadata": {
        "colab": {
          "base_uri": "https://localhost:8080/"
        },
        "id": "41EJKswt8NWP",
        "outputId": "99873a49-e2eb-4950-eeef-cbfaa75ed9a0"
      },
      "outputs": [
        {
          "name": "stdout",
          "output_type": "stream",
          "text": [
            "Ali\n",
            "123\n",
            "Ammara\n",
            "456\n"
          ]
        }
      ],
      "source": [
        "class Student:\n",
        "  def __init__(self, name, roll_number):\n",
        "    self.name = name\n",
        "    self.roll_number = roll_number\n",
        "\n",
        "student = Student(\"Ali\", 123)\n",
        "\n",
        "print(student.name)\n",
        "print(student.roll_number)\n",
        "\n",
        "student.name = \"Ammara\"\n",
        "student.roll_number = 456\n",
        "\n",
        "print(student.name)\n",
        "print(student.roll_number)"
      ]
    },
    {
      "cell_type": "code",
      "execution_count": null,
      "metadata": {
        "colab": {
          "base_uri": "https://localhost:8080/"
        },
        "id": "zDfr9CO8869a",
        "outputId": "51221f2a-64e4-41ef-e6ca-ccfab8a9adde"
      },
      "outputs": [
        {
          "name": "stdout",
          "output_type": "stream",
          "text": [
            "Ali\n",
            "123\n",
            "Ammara\n",
            "456\n"
          ]
        }
      ],
      "source": [
        "class Student:\n",
        "  def __init__(self, name, roll_number):\n",
        "    self.name = name\n",
        "    self.roll_number = roll_number\n",
        "\n",
        "student1 = Student(\"Ali\", 123)\n",
        "student2 = Student(\"Ammara\", 456)\n",
        "\n",
        "print(student1.name)\n",
        "print(student1.roll_number)\n",
        "\n",
        "print(student2.name)\n",
        "print(student2.roll_number)"
      ]
    },
    {
      "cell_type": "code",
      "execution_count": null,
      "metadata": {
        "colab": {
          "background_save": true
        },
        "id": "4ZBpV37K9cLD"
      },
      "outputs": [],
      "source": [
        "class Student:\n",
        "  def __init__(self, name, age, grades):\n",
        "    self.name = name\n",
        "    self.age = age\n",
        "    self.grades = grades\n",
        "\n",
        "  def average_grade(self):\n",
        "    if not self.grades:\n",
        "      return 0\n",
        "    else:\n",
        "      return sum(self.grades) / len(self.grades)\n",
        "\n",
        "# Example usage\n",
        "student = Student(\"Ali\", 16, [85, 90, 78])\n",
        "average = student.average_grade()\n",
        "print(average)"
      ]
    }
  ],
  "metadata": {
    "colab": {
      "provenance": [],
      "toc_visible": true
    },
    "kernelspec": {
      "display_name": "Python 3",
      "name": "python3"
    },
    "language_info": {
      "name": "python"
    }
  },
  "nbformat": 4,
  "nbformat_minor": 0
}